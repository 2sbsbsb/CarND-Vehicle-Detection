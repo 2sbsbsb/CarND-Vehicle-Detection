{
 "cells": [
  {
   "cell_type": "code",
   "execution_count": 13,
   "metadata": {},
   "outputs": [],
   "source": [
    "import matplotlib.image as mpimg\n",
    "import matplotlib.pyplot as plt\n",
    "import matplotlib.pyplot\n",
    "import numpy as np\n",
    "import cv2\n",
    "import glob\n",
    "import time\n",
    "from skimage.feature import hog\n",
    "from sklearn.svm import LinearSVC\n",
    "from sklearn.preprocessing import StandardScaler\n",
    "from sklearn.model_selection import train_test_split\n"
   ]
  },
  {
   "cell_type": "code",
   "execution_count": 15,
   "metadata": {
    "collapsed": true
   },
   "outputs": [],
   "source": [
    "# Define a function to compute binned color features\n",
    "def bin_spatial(img, size=(32, 32)):\n",
    "    # Use cv2.resize().ravel() to create the feature vector\n",
    "    features = cv2.resize(img, size).ravel()\n",
    "    # Return the feature vector\n",
    "    return features\n",
    "\n"
   ]
  },
  {
   "cell_type": "code",
   "execution_count": 16,
   "metadata": {
    "collapsed": true
   },
   "outputs": [],
   "source": [
    "# Define a function to compute color histogram features\n",
    "def color_hist(img, nbins=32):\n",
    "    # Compute the histogram of the color channels separately\n",
    "    channel1_hist = np.histogram(img[:,:,0], bins=nbins)\n",
    "    channel2_hist = np.histogram(img[:,:,1], bins=nbins)\n",
    "    channel3_hist = np.histogram(img[:,:,2], bins=nbins)\n",
    "    # Concatenate the histograms into a single feature vector\n",
    "    hist_features = np.concatenate((channel1_hist[0], channel2_hist[0], channel3_hist[0]))\n",
    "    # Return the individual histograms, bin_centers and feature vector\n",
    "    return hist_features   "
   ]
  },
  {
   "cell_type": "code",
   "execution_count": 17,
   "metadata": {
    "collapsed": true
   },
   "outputs": [],
   "source": [
    "def get_hog_features(img, orient, pix_per_cell, cell_per_block, \n",
    "                        vis=False, feature_vec=True):\n",
    "    # Call with two outputs (features and visulization) if vis==True\n",
    "    if vis == True:\n",
    "        features, hog_image = hog(img, orientations=orient, \n",
    "                                  pixels_per_cell=(pix_per_cell, pix_per_cell),\n",
    "                                  cells_per_block=(cell_per_block, cell_per_block), \n",
    "                                  transform_sqrt=False, \n",
    "                                  visualise=vis, feature_vector=feature_vec)\n",
    "        return features, hog_image\n",
    "    # Otherwise, get features only\n",
    "    else:      \n",
    "        features = hog(img, orientations=orient, \n",
    "                       pixels_per_cell=(pix_per_cell, pix_per_cell),\n",
    "                       cells_per_block=(cell_per_block, cell_per_block), \n",
    "                       transform_sqrt=False, \n",
    "                       visualise=vis, feature_vector=feature_vec)\n",
    "        return features"
   ]
  },
  {
   "cell_type": "code",
   "execution_count": 31,
   "metadata": {
    "collapsed": true
   },
   "outputs": [],
   "source": [
    "\n",
    "# Define a function to extract features from a list of images\n",
    "# Have this function call bin_spatial() and color_hist()\n",
    "\n",
    "def extract_features(imgs, cspace='RGB', spatial_size=(32, 32),\n",
    "                     hist_bins=32, orient=9,\n",
    "                     pix_per_cell=8, cell_per_block=2, hog_channel=0,\n",
    "                     spatial_feat=True, hist_feat=True, hog_feat=True):\n",
    "    # Create a list to append feature vectors to\n",
    "    features = []\n",
    "    # Iterate through the list of images\n",
    "    for file in imgs:\n",
    "        file_features = []\n",
    "        # Read in each one by one\n",
    "        image = mpimg.imread(file)\n",
    "        # apply color conversion if other than 'RGB'\n",
    "        if cspace != 'RGB':\n",
    "            if cspace == 'HSV':\n",
    "                feature_image = cv2.cvtColor(image, cv2.COLOR_RGB2HSV)\n",
    "            elif cspace == 'LUV':\n",
    "                feature_image = cv2.cvtColor(image, cv2.COLOR_RGB2LUV)\n",
    "            elif cspace == 'HLS':\n",
    "                feature_image = cv2.cvtColor(image, cv2.COLOR_RGB2HLS)\n",
    "            elif cspace == 'YUV':\n",
    "                feature_image = cv2.cvtColor(image, cv2.COLOR_RGB2YUV)\n",
    "            elif cspace == 'YCrCb':\n",
    "                feature_image = cv2.cvtColor(image, cv2.COLOR_RGB2YCrCb)\n",
    "        else:\n",
    "            feature_image = np.copy(image)\n",
    "\n",
    "        if (spatial_feat == True):\n",
    "            # Apply bin_spatial() to get spatial color features\n",
    "            spatial_features = bin_spatial(feature_image, size=spatial_size)\n",
    "            file_features.append(spatial_features)\n",
    "        if (hist_feat == True):\n",
    "            # Apply color_hist() also with a color space option now\n",
    "            hist_features = color_hist(feature_image, nbins=hist_bins)\n",
    "            file_features.append(hist_features)\n",
    "        if (hog_feat == True):\n",
    "            if (hog_channel == \"All\"):\n",
    "                hog_features = []\n",
    "                for channel in range(feature_image.shape[2]):\n",
    "                    hog_features.append(\n",
    "                        get_hog_features(feature_image[:, :, channel], orient, pix_per_cell, cell_per_block, vis=False,\n",
    "                                         feature_vec=True))\n",
    "                    hog_features = np.ravel(hog_features)\n",
    "            else:\n",
    "                hog_features = get_hog_features(feature_image[:, :, hog_channel], orient,\n",
    "                                                pix_per_cell, cell_per_block, vis=False, feature_vec=True)\n",
    "\n",
    "            # Append the new feature vector to the features list\n",
    "            file_features.append(hog_features)\n",
    "\n",
    "        features.append(np.concatenate(file_features))\n",
    "        # Append the new feature vector to the features list\n",
    "        features.append(np.concatenate((spatial_features, hist_features)))\n",
    "    # Return list of feature vectors\n",
    "    return features\n",
    "\n"
   ]
  },
  {
   "cell_type": "code",
   "execution_count": 32,
   "metadata": {
    "collapsed": true
   },
   "outputs": [],
   "source": [
    "\n",
    "# window size (x and y are dimension)\n",
    "# and overlap fraction (for both x and y)\n",
    "\n",
    "def slide_window(img,x_start,stop=[None,None],y_start_stop=[None,None], xy_window=(64,64), xy_overlap=(0.5,0.5)):\n",
    "    # If x and/or y start/stop positions not defined, set to image size \n",
    "    if(x_start_stop[0] == None):\n",
    "        x_start_stop[0] = 0 \n",
    "    if(x_start_stop[1] == None):\n",
    "        x_start_stop[1] = img.shape[1]\n",
    "    if(y_start_stop[0] == None):\n",
    "        y_start_stop[0] = 0 \n",
    "    if(y_start_stop[1] == None):\n",
    "        y_start_stop[1] = img.shape[0]\n",
    "    # Compute the span of the region to be searched\n",
    "    xspan = x_start_stop[1] - x_start_stop[0]\n",
    "    yspan = y_start_stop[1] - y_start_stop[0]\n",
    "    # Compute the number of pixels per step in x/y\n",
    "    nx_pix_per_step = np.int(xy_window[0]*(1-xy_overlap[0]))\n",
    "    ny_pix_per_step = np.int(xy_window[1]*(1-xy_overlap[1]))\n",
    "    # Compute the number of windows in x/y\n",
    "    nx_windows = np.int(xspan/nx_pix_per_step) - 1\n",
    "    ny_windows = np.int(yspan/ny_pix_per_step) - 1\n",
    "    # Initialize a list to append window position to \n",
    "    \n",
    "    window_list = [] \n",
    "    # Loop through finding x and y window positions \n",
    "    # Note: you could vectorize this step, but in practice \n",
    "    # you will be considering windows one by one with your classifier , so looping makes sense \n",
    "    for ys in range(ny_windows):\n",
    "        for xs in range(nx_windows):\n",
    "            # Calculate window position\n",
    "            startx = xs * nx_pix_per_step + x_start_stop[0]\n",
    "            endex = startx + xy_window[0]\n",
    "            starty = xs * ny_pix_per_step + y_start_stop[0]\n",
    "            endy = starty + xy_window[1]\n",
    "        \n",
    "        # Append window position to list \n",
    "        window_list.append(((startx,starty),(endx,endy)))\n",
    "        \n",
    "    # Return the list of windows     \n",
    "    return window_list\n"
   ]
  },
  {
   "cell_type": "code",
   "execution_count": 33,
   "metadata": {
    "collapsed": true
   },
   "outputs": [],
   "source": [
    "\n",
    "# Define a function to draw bounding boxes\n",
    "\n",
    "def draw_boxes(img, bboxes, color=(0, 0, 255), thick=6):\n",
    "    # Make a copy of the images\n",
    "    imcopy = np.copy(img)\n",
    "    # Iterate through the bounding boxes\n",
    "    for bbox in bboxes:\n",
    "        cv2.rectange(imcopy, bbox[0], bbox[1], color, thick)\n",
    "    # Return the image copy with the boxes drawn\n",
    "    return imcopy\n",
    "\n",
    "   "
   ]
  },
  {
   "cell_type": "code",
   "execution_count": 34,
   "metadata": {
    "collapsed": true
   },
   "outputs": [],
   "source": [
    "# This function is very similar to extract_features()\n",
    "# Just for a single image rather than the list of images.\n",
    "\n",
    "def single_img_features(img, color_space='RGB', spatial_size=(32, 32),\n",
    "                        hist_bins=32, orient=9,\n",
    "                        pix_per_cell=8, cell_per_block=2, hog_channel=0,\n",
    "                        spatial_feat=True, hist_feat=True, hog_feat=True, vis=False):\n",
    "\n",
    "    # Define an empty list to receive features\n",
    "    img_features = []\n",
    "    # Apply color conversion if other than RGB\n",
    "    # apply color conversion if other than 'RGB'\n",
    "    if color_space != 'RGB':\n",
    "        if color_space == 'HSV':\n",
    "            feature_image = cv2.cvtColor(img, cv2.COLOR_RGB2HSV)\n",
    "        elif color_space == 'LUV':\n",
    "            feature_image = cv2.cvtColor(img, cv2.COLOR_RGB2LUV)\n",
    "        elif color_space == 'HLS':\n",
    "            feature_image = cv2.cvtColor(img, cv2.COLOR_RGB2HLS)\n",
    "        elif color_space == 'YUV':\n",
    "            feature_image = cv2.cvtColor(img, cv2.COLOR_RGB2YUV)\n",
    "        elif color_space == 'YCrCb':\n",
    "            feature_image = cv2.cvtColor(img, cv2.COLOR_RGB2YCrCb)\n",
    "    else:\n",
    "        feature_image = np.copy(img)\n",
    "\n",
    "    if (spatial_feat == True):\n",
    "        # Apply bin_spatial() to get spatial color features\n",
    "        spatial_features = bin_spatial(feature_image, size=spatial_size)\n",
    "        img_features.append(spatial_features)\n",
    "    if (hist_feat == True):\n",
    "        # Apply color_hist() also with a color space option now\n",
    "        hist_features = color_hist(feature_image, nbins=hist_bins)\n",
    "        img_features.append(hist_features)\n",
    "    if hog_feat == True:\n",
    "        if (hog_channel == \"All\"):\n",
    "            hog_features = []\n",
    "            for channel in range(feature_image.shape[2]):\n",
    "                hog_features.append(\n",
    "                    get_hog_features(feature_image[:, :, channel], orient, pix_per_cell, cell_per_block,\n",
    "                                     vis=False,feature_vec=True))\n",
    "                hog_features = np.concatenate(hog_features)\n",
    "        else:\n",
    "            if (vis == True):\n",
    "                hog_features, hog_image = get_hog_features(feature_image[:, :, hog_channel], orient,\n",
    "                                                       pix_per_cell, cell_per_block, vis=True, feature_vec=True)            \n",
    "            else:\n",
    "                hog_features = get_hog_features(feature_image[:, :, hog_channel], orient,\n",
    "                                            pix_per_cell, cell_per_block, vis=False, feature_vec=True)\n",
    "        # Append features to list \n",
    "        img_features.append(hog_features)            \n",
    "\n",
    "    if vis == True:\n",
    "        return np.concatenate(img_features), hog_image\n",
    "    else : \n",
    "        return np.concatenate(img_features)\n",
    "\n",
    "        \n"
   ]
  },
  {
   "cell_type": "code",
   "execution_count": 35,
   "metadata": {
    "collapsed": true
   },
   "outputs": [],
   "source": [
    "  #   Define a function you will pass an image\n",
    "    #   and the list of windows to be searched (output of slide_windows())\n",
    "\n",
    "def search_windows(img,windows,clf,scaler,color_space='RGB',\n",
    "                   spatial_size=(32,32),hist_bins=32,hist_range=(0,256),orient=9,\n",
    "                   pix_per_cell=8,cell_per_block=2,hog_channel=0,spatial_feat=True,\n",
    "                   hist_feat=True,hog_feat=True):\n",
    "\n",
    "    #1) Create an empty list to receive positive detection windows\n",
    "    on_windows = []\n",
    "    #2) Iterate over all windows in the list\n",
    "    for window in windows:\n",
    "        #3) Extract the test window from original image\n",
    "        test_image = cv2.resize(img[window[0][1]:window[1][1],window[0][0]:window[1][0]],(64,64))\n",
    "        #4) Extract features for that window using single img_feature()\n",
    "\n",
    "        features = single_img_features(test_img,color_space=color_space,spatial_size=spatial_size,hist_bins=hist_bins,orient=orient,\n",
    "                                       pix_per_cell=pix_per_cell,cell_per_block=cell_per_block,hog_channel=hog_channel,\n",
    "                                       spatial_feat=spatial_feat,hist_feat=hist_feat,hog_feat=hog_feat)\n",
    "\n",
    "        #5) Scale extracted to be fed to classifier\n",
    "        test_features = scaler.transform(np.array(features).reshape(1,-1))\n",
    "        #6) Predict using your classifier\n",
    "        prediction = clf.predict(test_features)\n",
    "        #7) if positive (prediction == 1) then save the window\n",
    "        if(prediction ==1 ):\n",
    "            on_windows.append(window)\n",
    "\n",
    "    return on_windows\n",
    "\n",
    "\n",
    "    "
   ]
  },
  {
   "cell_type": "code",
   "execution_count": 36,
   "metadata": {
    "collapsed": true
   },
   "outputs": [],
   "source": [
    "def visualize(fig,rows,cols,imgs,titles):\n",
    "    for i, img in enumerate(imgs):\n",
    "        plt.subplot(rows,cols,i+1)\n",
    "        plt.title(i+1)\n",
    "        img_dims = len(img.shape)        \n",
    "        plt.imshow(img)                \n",
    "        plt.title(titles[i])\n",
    "    plt.show()"
   ]
  },
  {
   "cell_type": "code",
   "execution_count": 37,
   "metadata": {},
   "outputs": [],
   "source": [
    "%matplotlib inline\n",
    "\n",
    "cars = glob.glob('./vehicles/**/*.png')\n",
    "notcars = glob.glob('./non-vehicles/**/*.png')\n",
    "\n",
    "#Choose random car / not-car indices \n",
    "car_ind = np.random.randint(0,len(cars))\n",
    "notcar_ind = np.random.randint(0,len(notcars))\n",
    "\n",
    "# Read in car / not-car images\n",
    "car_image = mpimg.imread(cars[car_ind])\n",
    "notcar_image = mpimg.imread(notcars[notcar_ind])\n",
    "\n",
    "\n",
    "\n",
    "# Define feature parametes \n",
    "color_space = 'RGB'# can be RGB, HSV, LUV, HLS, YUV , YCr\n",
    "orient = 6\n",
    "pix_per_cell = 8\n",
    "cell_per_block = 2\n",
    "hog_channel = 0 # Can be 0, 1, 2, or \"ALL\"\n",
    "spatial_size = (16,16) # Spatial binning dimensions \n",
    "hist_bins = 16\n",
    "spatial_feat = True\n",
    "hist_feat = True\n",
    "hog_feat = True \n",
    "vis = True\n",
    "\n"
   ]
  },
  {
   "cell_type": "code",
   "execution_count": 38,
   "metadata": {},
   "outputs": [
    {
     "name": "stderr",
     "output_type": "stream",
     "text": [
      "C:\\ProgramData\\Miniconda3\\envs\\carnd-term1\\lib\\site-packages\\skimage\\feature\\_hog.py:119: skimage_deprecation: Default value of `block_norm`==`L1` is deprecated and will be changed to `L2-Hys` in v0.15\n  'be changed to `L2-Hys` in v0.15', skimage_deprecation)\n"
     ]
    }
   ],
   "source": [
    "car_features, car_hog_image = single_img_features(car_image, color_space, spatial_size,\n",
    "                            hist_bins, orient,pix_per_cell, cell_per_block, hog_channel,\n",
    "                            spatial_feat, \n",
    "                            hist_feat, \n",
    "                            hog_feat, \n",
    "                            vis)\n",
    "\n",
    "notcar_features, notcar_hog_image = single_img_features(notcar_image, color_space, spatial_size,\n",
    "                            hist_bins, orient, pix_per_cell, cell_per_block, hog_channel,\n",
    "                            spatial_feat, hist_feat, hog_feat, vis)\n",
    "\n",
    "images = [car_image,car_hog_image,notcar_image,notcar_hog_image]\n",
    "titles = ['car image', 'car HOG image', 'notcar_image', 'notcar HOG image']\n",
    "fig = plt.figure(figsize=(12,3))\n",
    "visualize(fig, 1, 4, images, titles)"
   ]
  },
  {
   "cell_type": "code",
   "execution_count": 40,
   "metadata": {
    "collapsed": true
   },
   "outputs": [
    {
     "name": "stderr",
     "output_type": "stream",
     "text": [
      "C:\\ProgramData\\Miniconda3\\envs\\carnd-term1\\lib\\site-packages\\skimage\\feature\\_hog.py:119: skimage_deprecation: Default value of `block_norm`==`L1` is deprecated and will be changed to `L2-Hys` in v0.15\n  'be changed to `L2-Hys` in v0.15', skimage_deprecation)\n"
     ]
    }
   ],
   "source": [
    "#Define feature parameters\n",
    "\n",
    "color_space = 'RGB' # Can be RGB, HSV, LUV, HLS, YUV, YCrCb\n",
    "orient = 6\n",
    "pix_per_cell = 8\n",
    "cell_per_block = 2\n",
    "hog_channel = 0 # 'ALL'\n",
    "spatial_size = (16,16)\n",
    "hist_bins = 16\n",
    "spatial_feat = True \n",
    "hist_feat = True \n",
    "hog_feat = True \n",
    "\n",
    "t = time.time()\n",
    "n_samples = 1000\n",
    "random_idxs = np.random.randint(0,len(cars),n_samples)\n",
    "test_cars = cars\n",
    "car_features = extract_features(test_cars,color_space,spatial_size,hist_bins,orient,pix_per_cell,cell_per_block,hog_channel,spatial_feat,hist_feat,hog_feat)"
   ]
  },
  {
   "cell_type": "code",
   "execution_count": 30,
   "metadata": {
    "collapsed": true
   },
   "outputs": [],
   "source": []
  },
  {
   "cell_type": "code",
   "execution_count": 30,
   "metadata": {},
   "outputs": [],
   "source": []
  },
  {
   "cell_type": "code",
   "execution_count": 30,
   "metadata": {},
   "outputs": [],
   "source": []
  },
  {
   "cell_type": "code",
   "execution_count": null,
   "metadata": {},
   "outputs": [],
   "source": []
  }
 ],
 "metadata": {
  "kernelspec": {
   "display_name": "Python 3",
   "language": "python",
   "name": "python3"
  },
  "language_info": {
   "codemirror_mode": {
    "name": "ipython",
    "version": 3
   },
   "file_extension": ".py",
   "mimetype": "text/x-python",
   "name": "python",
   "nbconvert_exporter": "python",
   "pygments_lexer": "ipython3",
   "version": "3.5.2"
  },
  "widgets": {
   "state": {},
   "version": "1.1.2"
  }
 },
 "nbformat": 4,
 "nbformat_minor": 2
}
